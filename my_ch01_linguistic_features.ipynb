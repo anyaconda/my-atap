{
 "cells": [
  {
   "cell_type": "code",
   "execution_count": 1,
   "metadata": {},
   "outputs": [],
   "source": [
    "#meta 2/7/2022 Linguistic Features\n",
    "#book: Applied Text Analysis with Python\n",
    "#authors: Benjamin Bengfort, Rebecca Bilbro, Tony Ojeda\n",
    "\n",
    "#infra: run on-prem \n",
    "#compute: my trainbox\n",
    "#existing default env: Python 3.7.6, nltk 3.4.5, networkx 2.4"
   ]
  },
  {
   "cell_type": "code",
   "execution_count": 2,
   "metadata": {},
   "outputs": [],
   "source": [
    "import nltk\n",
    "from collections import Counter"
   ]
  },
  {
   "cell_type": "markdown",
   "metadata": {},
   "source": [
    "Refer to https://www.nltk.org/data.html\n",
    "\n",
    "NLTK comes with many corpora, toy grammars, trained models, etc. A complete list is posted at: https://www.nltk.org/nltk_data/\n",
    "\n",
    "To install the data, first install NLTK (see https://www.nltk.org/install.html), then use NLTK’s data downloader."
   ]
  },
  {
   "cell_type": "markdown",
   "metadata": {},
   "source": [
    "$error: Resource punkt not found.  \n",
    "Please use the NLTK Downloader to obtain the resource:  \n",
    "> import nltk  \n",
    "> nltk.download('punkt')"
   ]
  },
  {
   "cell_type": "code",
   "execution_count": 3,
   "metadata": {},
   "outputs": [],
   "source": [
    "#prerequisite\n",
    "#nltk.download('punkt')"
   ]
  },
  {
   "cell_type": "markdown",
   "metadata": {},
   "source": [
    "# book `Applied Text Analysis with Python`\n",
    "Enabling language-aware data products with ML.  \n",
    "repo https://github.com/anyaconda/atap\n",
    "\n",
    "# Ch.1 Language and Computation\n",
    "Basic hypothesis behind applied ML on text: text is predictable.\n",
    "\n",
    "\n",
    "## Linguistic Features\n",
    "A simple model that uses linguistic features to identify the predominant gender in a piece of text.  Refer to Neal Caren blog post (2013).  He applied a gender-based analysis of text to New York Times articles and determined that in fact male and female words appeared in starkly different contexts, potentially reinforcing gender biases.\n"
   ]
  },
  {
   "cell_type": "code",
   "execution_count": 4,
   "metadata": {},
   "outputs": [],
   "source": [
    "#import nltk\n",
    "#nltk.download('wordnet')"
   ]
  },
  {
   "cell_type": "code",
   "execution_count": 5,
   "metadata": {},
   "outputs": [],
   "source": [
    "# build sets of words that differentiate sentences about gender\n",
    "\n",
    "# 4 possible states\n",
    "MALE = 'male'\n",
    "FEMALE = 'female'\n",
    "UNKNOWN = 'unknown'\n",
    "BOTH = 'both'\n",
    "\n",
    "MALE_WORDS = set([\n",
    "    'guy','spokesman','chairman',\"men's\",'men','him',\"he's\",'his',\n",
    "    'boy','boyfriend','boyfriends','boys','brother','brothers','dad',\n",
    "    'dads','dude','father','fathers','fiance','gentleman','gentlemen',\n",
    "    'god','grandfather','grandpa','grandson','groom','he','himself',\n",
    "    'husband','husbands','king','male','man','mr','nephew','nephews',\n",
    "    'priest','prince','son','sons','uncle','uncles','waiter','widower',\n",
    "    'widowers'\n",
    "])\n",
    "\n",
    "FEMALE_WORDS = set([\n",
    "    'heroine','spokeswoman','chairwoman',\"women's\",'actress','women',\n",
    "    \"she's\",'her','aunt','aunts','bride','daughter','daughters','female',\n",
    "    'fiancee','girl','girlfriend','girlfriends','girls','goddess',\n",
    "    'granddaughter','grandma','grandmother','herself','ladies','lady',\n",
    "    'mom','moms','mother','mothers','mrs','ms','niece','nieces',\n",
    "    'priestess','princess','queens','she','sister','sisters','waitress',\n",
    "    'widow','widows','wife','wives','woman'\n",
    "])\n",
    "\n",
    "# method to assign gender to a sentence\n",
    "# desc: examines # of words in a sentence that appear in 2 gendered lists\n",
    "# return: classification of the sentence: 4 cats\n",
    "def genderize(words):\n",
    "\n",
    "    mwlen = len(MALE_WORDS.intersection(words))\n",
    "    fwlen = len(FEMALE_WORDS.intersection(words))\n",
    "\n",
    "    if mwlen > 0 and fwlen == 0:\n",
    "        return MALE\n",
    "    elif mwlen == 0 and fwlen > 0:\n",
    "        return FEMALE\n",
    "    elif mwlen > 0 and fwlen > 0:\n",
    "        return BOTH\n",
    "    else:\n",
    "        return UNKNOWN\n",
    "\n",
    "# method to count frequency of gendered words and sentences within the complete text of an article\n",
    "# desc: evaluate the total # of gendered words and gendered sentences\n",
    "def count_gender(sentences):\n",
    "\n",
    "    sents = Counter()\n",
    "    words = Counter()\n",
    "\n",
    "    for sentence in sentences:\n",
    "        gender = genderize(sentence)\n",
    "        sents[gender] += 1\n",
    "        words[gender] += len(sentence)\n",
    "\n",
    "    return sents, words\n",
    "\n",
    "# to parse raw text of the articles into component sentences and words\n",
    "# desc: break paragraphs into sentences\n",
    "def parse_gender(text):\n",
    "\n",
    "    sentences = [\n",
    "        [word.lower() for word in nltk.word_tokenize(sentence)]\n",
    "        for sentence in nltk.sent_tokenize(text)\n",
    "    ]\n",
    "\n",
    "    sents, words = count_gender(sentences)\n",
    "    total = sum(words.values())\n",
    "\n",
    "    for gender, count in words.items():\n",
    "        pcent = (count / total) * 100\n",
    "        nsents = sents[gender]\n",
    "\n",
    "        print(\n",
    "            \"{:0.3f}% {} ({} sentences)\".format(pcent, gender, nsents)\n",
    "        )\n"
   ]
  },
  {
   "cell_type": "code",
   "execution_count": 6,
   "metadata": {},
   "outputs": [
    {
     "name": "stdout",
     "output_type": "stream",
     "text": [
      "39.269% unknown (48 sentences)\n",
      "52.994% female (38 sentences)\n",
      "4.393% both (2 sentences)\n",
      "3.344% male (3 sentences)\n"
     ]
    }
   ],
   "source": [
    "# print a doc's % of 4 cats\n",
    "with open('data/ballet.txt', 'r', newline='\\n', encoding='UTF-8') as f:\n",
    "    parse_gender(f.read())"
   ]
  },
  {
   "cell_type": "markdown",
   "metadata": {},
   "source": [
    "## My edits"
   ]
  },
  {
   "cell_type": "code",
   "execution_count": 7,
   "metadata": {},
   "outputs": [],
   "source": [
    "#$my\n",
    "# method to assign gender to a sentence\n",
    "# desc: examines # of words in a sentence that appear in 2 gendered lists\n",
    "# return: classification of the sentence: 4 cats\n",
    "def my_genderize(words):\n",
    "    #$my see gendered words per sentence\n",
    "    print(\"male words? \", MALE_WORDS.intersection(words))\n",
    "    print(\"female words? \", FEMALE_WORDS.intersection(words))\n",
    "\n",
    "    mwlen = len(MALE_WORDS.intersection(words))\n",
    "    fwlen = len(FEMALE_WORDS.intersection(words))\n",
    "\n",
    "    if mwlen > 0 and fwlen == 0:\n",
    "        return MALE\n",
    "    elif mwlen == 0 and fwlen > 0:\n",
    "        return FEMALE\n",
    "    elif mwlen > 0 and fwlen > 0:\n",
    "        return BOTH\n",
    "    else:\n",
    "        return UNKNOWN\n",
    "    \n",
    "# method to count frequency of gendered words and sentences within the complete text of an article\n",
    "# desc: evaluate the total # of gendered words and gendered sentences\n",
    "#$note unchanged\n",
    "#def count_gender(sentences):\n",
    "\n",
    "\n",
    "# to parse raw text of the articles into component sentences and words\n",
    "# desc: break paragraphs into sentences\n",
    "def my_parse_gender(text):\n",
    "\n",
    "    sentences = [\n",
    "        [word.lower() for word in nltk.word_tokenize(sentence)]\n",
    "        for sentence in nltk.sent_tokenize(text)\n",
    "    ]\n",
    "    \n",
    "    #my: total count of sentences\n",
    "    print(\"Total sentences: {:d} \".format(len(sentences)))\n",
    "    \n",
    "    print(sentences[4])\n",
    "    \n",
    "    #my: limit to only a few sentences\n",
    "    sents, words = count_gender(sentences[:5])\n",
    "    total = sum(words.values())\n",
    "    \n",
    "    print(\"\\n\")\n",
    "\n",
    "    for gender, count in words.items():\n",
    "        pcent = (count / total) * 100\n",
    "        nsents = sents[gender]\n",
    "        \n",
    "        print(\n",
    "            \"{:0.3f}% {} ({} sentences)\".format(pcent, gender, nsents)\n",
    "        )\n"
   ]
  },
  {
   "cell_type": "code",
   "execution_count": 8,
   "metadata": {},
   "outputs": [
    {
     "name": "stdout",
     "output_type": "stream",
     "text": [
      "Total sentences: 91 \n",
      "['spending', 'a', 'week', 'shadowing', 'ms.', 'kretzschmar', 'was', 'exhausting', '—', 'she', 'gave', 'new', 'meaning', 'to', 'the', 'idea', 'of', 'being', 'on', 'your', 'feet', 'all', 'day', '.']\n",
      "\n",
      "\n",
      "67.176% unknown (3 sentences)\n",
      "32.824% female (2 sentences)\n"
     ]
    }
   ],
   "source": [
    "# print a doc's % of 4 cats\n",
    "with open('data/ballet.txt', 'r', newline='\\n', encoding='UTF-8') as f:\n",
    "    my_parse_gender(f.read())"
   ]
  },
  {
   "cell_type": "code",
   "execution_count": null,
   "metadata": {},
   "outputs": [],
   "source": []
  }
 ],
 "metadata": {
  "kernelspec": {
   "display_name": "Python 3",
   "language": "python",
   "name": "python3"
  },
  "language_info": {
   "codemirror_mode": {
    "name": "ipython",
    "version": 3
   },
   "file_extension": ".py",
   "mimetype": "text/x-python",
   "name": "python",
   "nbconvert_exporter": "python",
   "pygments_lexer": "ipython3",
   "version": "3.7.6"
  }
 },
 "nbformat": 4,
 "nbformat_minor": 4
}
