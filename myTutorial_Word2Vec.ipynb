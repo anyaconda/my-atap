{
 "cells": [
  {
   "cell_type": "code",
   "execution_count": 1,
   "metadata": {},
   "outputs": [],
   "source": [
    "#meta 2/4/2022 my Word2vec Tutorial\n",
    "#refer to src https://rare-technologies.com/word2vec-tutorial/\n",
    "#inspired by book: Applied Text Analysis with Python\n",
    "\n",
    "#infra: run on-prem \n",
    "#compute: my trainbox\n",
    "# created env anya_nlp_experiments: Python 3.7.6, networkx 2.4 already available in default base env, added gensim\n",
    "#      conda install -c conda-forge gensim\n",
    "#      gensim 3.8.3"
   ]
  },
  {
   "cell_type": "code",
   "execution_count": 2,
   "metadata": {},
   "outputs": [],
   "source": [
    "import numpy as np\n",
    "import pandas as pd\n",
    "import matplotlib.pyplot as plt\n",
    "\n",
    "#from gensim.models import word2vec\n",
    "from gensim.models import Word2Vec\n",
    "from sklearn.manifold import TSNE"
   ]
  },
  {
   "cell_type": "code",
   "execution_count": 3,
   "metadata": {},
   "outputs": [],
   "source": [
    "#-------------- GLOBAL VARS ----------------------------\n",
    "\n",
    "#set up logging\n",
    "import logging \n",
    "logging.basicConfig(format='%(asctime)s : %(levelname)s : %(message)s', level=logging.ERROR)"
   ]
  },
  {
   "cell_type": "markdown",
   "metadata": {},
   "source": [
    "# Word2vec Tutorial\n",
    "How to use `word2vec` in gensim  \n",
    "refer to https://rare-technologies.com/word2vec-tutorial/\n",
    "\n",
    "Gensim API docs https://radimrehurek.com/gensim/models/word2vec.html  \n",
    "Full `word2vec` API docs http://radimrehurek.com/gensim/models/word2vec.html\n",
    "\n",
    "\n",
    "#### Preparing the Input\n",
    "\n",
    "Gensim’s `word2vec` expects a sequence of sentences as its input. Each sentence a list of words (utf8 strings):"
   ]
  },
  {
   "cell_type": "code",
   "execution_count": 4,
   "metadata": {},
   "outputs": [],
   "source": [
    "# tiny dataset\n",
    "sentences = [[\"cat\", \"say\", \"meow\"], [\"dog\", \"say\", \"woof\"]]\n",
    "sentences = [\n",
    "    [\"cat\", \"say\", \"meow\"], \n",
    "    [\"dog\", \"say\", \"woof\"],\n",
    "    [\"cat\", \"bites\", \"dog\"],\n",
    "    [\"dog\", \"bites\", \"cat\"],\n",
    "    [\"black\", \"cat\", \"means\", \"good\", \"luck\"],\n",
    "    [\"cat\", \"sleeps\", \"all\", \"day\"],\n",
    "    [\"dog\", \"eats\", \"all\", \"day\"],\n",
    "    [\"nothing\", \"happened\"]\n",
    "]"
   ]
  },
  {
   "cell_type": "markdown",
   "metadata": {},
   "source": [
    "Keeping the input as a Python built-in list is convenient, but can use up a lot of RAM when the input is large.  (more in $xtra)\n",
    "\n",
    "Initialize and train a `Word2Vec` model  \n",
    "src https://radimrehurek.com/gensim/models/word2vec.html"
   ]
  },
  {
   "cell_type": "code",
   "execution_count": 5,
   "metadata": {},
   "outputs": [],
   "source": [
    "# train word2vec on the two sentences\n",
    "nn_size = 20 #the size of the NN layers\n",
    "model = Word2Vec(sentences, min_count=1, size=nn_size)"
   ]
  },
  {
   "cell_type": "markdown",
   "metadata": {},
   "source": [
    "This object essentially contains the mapping between words and embeddings. After training, it can be used directly to query those embeddings in various ways. See the module level docstring for examples."
   ]
  },
  {
   "cell_type": "code",
   "execution_count": 6,
   "metadata": {},
   "outputs": [
    {
     "data": {
      "text/plain": [
       "{'all',\n",
       " 'bites',\n",
       " 'black',\n",
       " 'cat',\n",
       " 'day',\n",
       " 'dog',\n",
       " 'eats',\n",
       " 'good',\n",
       " 'happened',\n",
       " 'luck',\n",
       " 'means',\n",
       " 'meow',\n",
       " 'nothing',\n",
       " 'say',\n",
       " 'sleeps',\n",
       " 'woof'}"
      ]
     },
     "execution_count": 6,
     "metadata": {},
     "output_type": "execute_result"
    }
   ],
   "source": [
    "#my view the vocabulary\n",
    "vocab = set(model.wv.index2word)\n",
    "vocab"
   ]
  },
  {
   "cell_type": "markdown",
   "metadata": {},
   "source": [
    "\n",
    "### Training\n",
    "Word2vec accepts several parameters that affect both training speed and quality.  \n",
    "- `min_count` for pruning the internal dictionary, best to ignore rare words (but not always)  \n",
    "- `size` the size of NN layers which correspond to the “degrees” of freedom the training algorithm has (bigger size requires more training data  \n",
    "- `workers` for training parallelization\n",
    "\n",
    "### Online training / Resuming training\n",
    "Advanced users can load a model and continue training it with more sentences:  \n",
    "   model = gensim.models.Word2Vec.load('/tmp/mymodel')  \n",
    "   model.train(more_sentences)"
   ]
  },
  {
   "cell_type": "markdown",
   "metadata": {},
   "source": [
    "### Memory\n",
    "`word2vec` model parameters are stored as matrices (NumPy arrays). Each array is `#vocabulary` (controlled by min_count parameter) times `#size` (size parameter) of `floats` (single precision aka 4 bytes).\n",
    "\n",
    "Three such matrices are held in RAM (work is underway to reduce that number to two, or even one). \n",
    "I.e. input contains 100,000 unique words, layer size=200 => the model will require approx. 100,000*200*4*3 bytes = ~229MB."
   ]
  },
  {
   "cell_type": "markdown",
   "metadata": {},
   "source": [
    "### Evaluating\n",
    "Word2vec training is an unsupervised task, there’s no good way to objectively evaluate the result. Evaluation depends on your end application.\n",
    "\n",
    "There're some test sets with accuracy results for bechmarking.  But once again, good performance on such test sets don’t mean word2vec will work well in your application, or vice versa. It’s always best to evaluate directly on your intended task.\n",
    "\n",
    "\n",
    "### Using the model\n",
    "Disclaimer: this is a toy model (trained with tiny input) => not really trained so not expecting any useful results  \n",
    "$mynote: non-deterministic results  \n",
    "`Word2vec` supports several word similarity tasks out of the box:"
   ]
  },
  {
   "cell_type": "code",
   "execution_count": 7,
   "metadata": {},
   "outputs": [
    {
     "data": {
      "text/plain": [
       "array([-0.02086004, -0.00369611,  0.02307848,  0.0016621 ,  0.00524181,\n",
       "        0.01244722,  0.01066912,  0.00018282, -0.00249257,  0.00282304,\n",
       "       -0.00183844, -0.0086663 ,  0.00659239, -0.00331465,  0.00416609,\n",
       "       -0.01847023, -0.02081865, -0.01224813, -0.02324068,  0.01073667],\n",
       "      dtype=float32)"
      ]
     },
     "execution_count": 7,
     "metadata": {},
     "output_type": "execute_result"
    }
   ],
   "source": [
    "#word embeddings - get numpy vector of a word\n",
    "model.wv['cat']"
   ]
  },
  {
   "cell_type": "code",
   "execution_count": 8,
   "metadata": {},
   "outputs": [
    {
     "data": {
      "text/plain": [
       "(0.054959968, 0.0056509674, 0.27981567)"
      ]
     },
     "execution_count": 8,
     "metadata": {},
     "output_type": "execute_result"
    }
   ],
   "source": [
    "model.wv.similarity('cat', 'dog'), model.wv.similarity('cat', 'meow'), model.wv.similarity('cat', 'woof')"
   ]
  },
  {
   "cell_type": "code",
   "execution_count": 9,
   "metadata": {},
   "outputs": [
    {
     "data": {
      "text/plain": [
       "[('day', 0.43785735964775085),\n",
       " ('luck', 0.3613164722919464),\n",
       " ('black', 0.32428470253944397),\n",
       " ('bites', 0.31792783737182617),\n",
       " ('sleeps', 0.3115014433860779),\n",
       " ('woof', 0.2798157036304474),\n",
       " ('eats', 0.1994004249572754),\n",
       " ('means', 0.10269851982593536),\n",
       " ('good', 0.0551304966211319),\n",
       " ('dog', 0.0549599826335907)]"
      ]
     },
     "execution_count": 9,
     "metadata": {},
     "output_type": "execute_result"
    }
   ],
   "source": [
    "# get other similar words\n",
    "model.wv.most_similar('cat')"
   ]
  },
  {
   "cell_type": "markdown",
   "metadata": {},
   "source": [
    "### Storing and loading models\n",
    "You can store/load models using the standard gensim methods `save` and `model`.\n",
    "\n",
    "In addition, you can load models created by the original C tool, both using its text and binary formats:"
   ]
  },
  {
   "cell_type": "code",
   "execution_count": 10,
   "metadata": {},
   "outputs": [
    {
     "name": "stdout",
     "output_type": "stream",
     "text": [
      "supply the file or get FileNotFoundError \n"
     ]
    }
   ],
   "source": [
    "import gensim\n",
    "try:\n",
    "    model = gensim.models.KeyedVectors.load_word2vec_format('/tmp/vectors.txt', binary=False)\n",
    "\n",
    "    # using gzipped/bz2 input works too, no need to unzip:\n",
    "    #model =  gensim.models.KeyedVectors.load_word2vec_format('/tmp/vectors.bin.gz', binary=True)\n",
    "except:\n",
    "    print(\"supply the file or get FileNotFoundError \")"
   ]
  },
  {
   "cell_type": "markdown",
   "metadata": {},
   "source": [
    "## Xtra"
   ]
  },
  {
   "cell_type": "markdown",
   "metadata": {},
   "source": [
    "Gensim only requires that the input must provide sentences sequentially, when iterated over. No need to keep everything in RAM: we can provide one sentence, process it, forget it, load another sentence…\n",
    "\n",
    "For example, if our input is strewn across several files on disk, with one sentence per line, then instead of loading everything into an in-memory list, we can process the input file by file, line by line:"
   ]
  },
  {
   "cell_type": "markdown",
   "metadata": {},
   "source": [
    "Visuaulize, refer to book `ATAP` or code in `my_ch09_syngraph.ipynb`"
   ]
  },
  {
   "cell_type": "code",
   "execution_count": 11,
   "metadata": {},
   "outputs": [],
   "source": [
    "def tsne_plot(model):\n",
    "    \"Creates and TSNE model and plots it\"\n",
    "    labels = []\n",
    "    tokens = []\n",
    "\n",
    "    for word in model.wv.vocab:\n",
    "        tokens.append(model.wv[word])\n",
    "        labels.append(word)\n",
    "    \n",
    "    tsne_model = TSNE(perplexity=40, n_components=2, init='pca', n_iter=2500, random_state=23)\n",
    "    new_values = tsne_model.fit_transform(tokens)\n",
    "\n",
    "    x = []\n",
    "    y = []\n",
    "    for value in new_values:\n",
    "        x.append(value[0])\n",
    "        y.append(value[1])\n",
    "        \n",
    "    plt.figure(figsize=(16, 16)) \n",
    "    for i in range(len(x)):\n",
    "        plt.scatter(x[i],y[i])\n",
    "        plt.annotate(labels[i],\n",
    "                     xy=(x[i], y[i]),\n",
    "                     xytext=(5, 2),\n",
    "                     textcoords='offset points',\n",
    "                     ha='right',\n",
    "                     va='bottom')\n",
    "    plt.show()\n"
   ]
  },
  {
   "cell_type": "code",
   "execution_count": 12,
   "metadata": {},
   "outputs": [
    {
     "data": {
      "image/png": "[encoded data removed]",
      "text/plain": [
       "<Figure size 1152x1152 with 1 Axes>"
      ]
     },
     "metadata": {
      "needs_background": "light"
     },
     "output_type": "display_data"
    }
   ],
   "source": [
    "tsne_plot(model)"
   ]
  },
  {
   "cell_type": "code",
   "execution_count": 13,
   "metadata": {},
   "outputs": [
    {
     "ename": "NameError",
     "evalue": "name 'mystop' is not defined",
     "output_type": "error",
     "traceback": [
      "\u001b[1;31m---------------------------------------------------------------------------\u001b[0m",
      "\u001b[1;31mNameError\u001b[0m                                 Traceback (most recent call last)",
      "\u001b[1;32m<ipython-input-13-e4275a632434>\u001b[0m in \u001b[0;36m<module>\u001b[1;34m\u001b[0m\n\u001b[0;32m      1\u001b[0m \u001b[1;31m#$xtra\u001b[0m\u001b[1;33m\u001b[0m\u001b[1;33m\u001b[0m\u001b[1;33m\u001b[0m\u001b[0m\n\u001b[1;32m----> 2\u001b[1;33m \u001b[0mmystop\u001b[0m\u001b[1;33m\u001b[0m\u001b[1;33m\u001b[0m\u001b[0m\n\u001b[0m\u001b[0;32m      3\u001b[0m \u001b[1;32mclass\u001b[0m \u001b[0mMySentences\u001b[0m\u001b[1;33m(\u001b[0m\u001b[0mobject\u001b[0m\u001b[1;33m)\u001b[0m\u001b[1;33m:\u001b[0m\u001b[1;33m\u001b[0m\u001b[1;33m\u001b[0m\u001b[0m\n\u001b[0;32m      4\u001b[0m     \u001b[1;32mdef\u001b[0m \u001b[0m__init__\u001b[0m\u001b[1;33m(\u001b[0m\u001b[0mself\u001b[0m\u001b[1;33m,\u001b[0m \u001b[0mdirname\u001b[0m\u001b[1;33m)\u001b[0m\u001b[1;33m:\u001b[0m\u001b[1;33m\u001b[0m\u001b[1;33m\u001b[0m\u001b[0m\n\u001b[0;32m      5\u001b[0m         \u001b[0mself\u001b[0m\u001b[1;33m.\u001b[0m\u001b[0mdirname\u001b[0m \u001b[1;33m=\u001b[0m \u001b[0mdirname\u001b[0m\u001b[1;33m\u001b[0m\u001b[1;33m\u001b[0m\u001b[0m\n",
      "\u001b[1;31mNameError\u001b[0m: name 'mystop' is not defined"
     ]
    }
   ],
   "source": [
    "#$xtra\n",
    "mystop\n",
    "class MySentences(object):\n",
    "    def __init__(self, dirname):\n",
    "        self.dirname = dirname\n",
    " \n",
    "    def __iter__(self):\n",
    "        for fname in os.listdir(self.dirname):\n",
    "            for line in open(os.path.join(self.dirname, fname)):\n",
    "                yield line.split()\n",
    " \n",
    "sentences = MySentences('/some/directory') # a memory-friendly iterator\n",
    "model = gensim.models.Word2Vec(sentences)"
   ]
  }
 ],
 "metadata": {
  "kernelspec": {
   "display_name": "Python [conda env:anya_nlp_experiments]",
   "language": "python",
   "name": "conda-env-anya_nlp_experiments-py"
  },
  "language_info": {
   "codemirror_mode": {
    "name": "ipython",
    "version": 3
   },
   "file_extension": ".py",
   "mimetype": "text/x-python",
   "name": "python",
   "nbconvert_exporter": "python",
   "pygments_lexer": "ipython3",
   "version": "3.7.6"
  }
 },
 "nbformat": 4,
 "nbformat_minor": 4
}
